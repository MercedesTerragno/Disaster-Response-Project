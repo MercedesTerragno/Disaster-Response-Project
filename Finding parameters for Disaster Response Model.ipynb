{
  "nbformat": 4,
  "nbformat_minor": 0,
  "metadata": {
    "colab": {
      "name": "Disaster response model.ipynb",
      "provenance": [],
      "collapsed_sections": [
        "sNt_auWevr5O"
      ]
    },
    "kernelspec": {
      "name": "python3",
      "display_name": "Python 3"
    },
    "language_info": {
      "name": "python"
    },
    "accelerator": "GPU"
  },
  "cells": [
    {
      "cell_type": "code",
      "metadata": {
        "colab": {
          "base_uri": "https://localhost:8080/"
        },
        "id": "VjGRJeaTvOG-",
        "outputId": "3015a759-42ad-49ca-c76e-8141e617aeb6"
      },
      "source": [
        "# import libraries\n",
        "import pandas as pd\n",
        "import numpy as np\n",
        "from sqlalchemy import create_engine\n",
        "import re\n",
        "import nltk\n",
        "nltk.download(['punkt', 'wordnet', 'averaged_perceptron_tagger', 'stopwords'])\n",
        "\n",
        "from nltk.corpus import stopwords\n",
        "from nltk.stem.wordnet import WordNetLemmatizer\n",
        "from nltk.tokenize import word_tokenize\n",
        "\n",
        "from sklearn.pipeline import Pipeline, FeatureUnion\n",
        "from sklearn.base import BaseEstimator, TransformerMixin\n",
        "from sklearn.feature_extraction.text import CountVectorizer, TfidfTransformer, TfidfVectorizer\n",
        "from sklearn.decomposition import TruncatedSVD\n",
        "\n",
        "from sklearn.model_selection import train_test_split\n",
        "from sklearn.multioutput import MultiOutputClassifier\n",
        "from sklearn.ensemble import RandomForestClassifier\n",
        "from sklearn.ensemble import AdaBoostClassifier\n",
        "\n",
        "from sklearn.model_selection import GridSearchCV\n",
        "from sklearn.metrics import f1_score"
      ],
      "execution_count": null,
      "outputs": [
        {
          "output_type": "stream",
          "text": [
            "[nltk_data] Downloading package punkt to /root/nltk_data...\n",
            "[nltk_data]   Unzipping tokenizers/punkt.zip.\n",
            "[nltk_data] Downloading package wordnet to /root/nltk_data...\n",
            "[nltk_data]   Unzipping corpora/wordnet.zip.\n",
            "[nltk_data] Downloading package averaged_perceptron_tagger to\n",
            "[nltk_data]     /root/nltk_data...\n",
            "[nltk_data]   Unzipping taggers/averaged_perceptron_tagger.zip.\n",
            "[nltk_data] Downloading package stopwords to /root/nltk_data...\n",
            "[nltk_data]   Unzipping corpora/stopwords.zip.\n"
          ],
          "name": "stdout"
        }
      ]
    },
    {
      "cell_type": "code",
      "metadata": {
        "id": "pfHhcHsIvdJN"
      },
      "source": [
        "# Prepare data\n",
        "\n",
        "engine = create_engine('sqlite:///DisasterResponse.db')\n",
        "df = pd.read_sql_table('messages_and_categories', engine)\n",
        "\n",
        "X = df.message #.values\n",
        "y = df.drop(['message', 'original', 'genre'], axis=1) #.values\n",
        "\n",
        "target_names = y.columns.tolist()\n",
        "\n",
        "def tokenize(text):\n",
        "    url_regex = 'http[s]?://(?:[a-zA-Z]|[0-9]|[$-_@.&+]|[!*\\(\\),]|(?:%[0-9a-fA-F][0-9a-fA-F]))+'\n",
        "    # replace each url in text string with placeholder\n",
        "    text = re.sub(url_regex, \"urlplaceholder\", text)\n",
        "    \n",
        "    # normalize text\n",
        "    text = re.sub(r\"[^a-zA-Z0-9]\", \" \", text.lower())\n",
        "\n",
        "    # tokenize text\n",
        "    tokens = word_tokenize(text)\n",
        "    \n",
        "    # remove stop words, strip whitespaces and lemmatize\n",
        "    lemmatizer = WordNetLemmatizer()\n",
        "#     stop_words = stopwords.words(\"english\")\n",
        "    tokens = [lemmatizer.lemmatize(w.strip()) for w in tokens] # if w not in stop_words]\n",
        "\n",
        "    \n",
        "    tokens = pd.Series(tokens).drop_duplicates().tolist()\n",
        "    \n",
        "    return tokens\n",
        "\n",
        "X_train, X_test, y_train, y_test = train_test_split(X, y, random_state=42)"
      ],
      "execution_count": null,
      "outputs": []
    },
    {
      "cell_type": "markdown",
      "metadata": {
        "id": "9ug04DFMvlj-"
      },
      "source": [
        "### **RandomForestClassifier**"
      ]
    },
    {
      "cell_type": "markdown",
      "metadata": {
        "id": "TGQdFHYMq14p"
      },
      "source": [
        "**First Round**"
      ]
    },
    {
      "cell_type": "code",
      "metadata": {
        "id": "mMbEjxOwVVZR"
      },
      "source": [
        "# default n_estimators=100, min_samples_split=2, max_features='auto'\n",
        "model = RandomForestClassifier(random_state=42)\n",
        "\n",
        "pipeline = Pipeline([\n",
        "    ('vect', CountVectorizer(tokenizer=tokenize)),\n",
        "    ('tfidf', TfidfTransformer()),\n",
        "    ('clf', MultiOutputClassifier(model, n_jobs=-1))\n",
        "])\n",
        "\n",
        "parameters = {'vect__max_df': [0.75, 1],\n",
        "              'clf__estimator__class_weight' : [None, 'balanced', 'balanced_subsample']\n",
        "              }\n",
        "\n",
        "cv = GridSearchCV(pipeline, cv=2, param_grid=parameters, scoring='f1_macro', \n",
        "                  verbose=3, n_jobs=-1)\n",
        "\n",
        "\n",
        "cv.fit(X_train, y_train)"
      ],
      "execution_count": null,
      "outputs": []
    },
    {
      "cell_type": "code",
      "metadata": {
        "id": "WySsO4zGVWkO"
      },
      "source": [
        "# class_weight= None, max_df= 0.75\n",
        "cv.best_estimator_.get_params()"
      ],
      "execution_count": null,
      "outputs": []
    },
    {
      "cell_type": "code",
      "metadata": {
        "colab": {
          "base_uri": "https://localhost:8080/"
        },
        "id": "2_XTNlufWPVq",
        "outputId": "6bbb11f8-601f-4622-c438-19b0840ec3d7"
      },
      "source": [
        "cv.best_score_"
      ],
      "execution_count": null,
      "outputs": [
        {
          "output_type": "execute_result",
          "data": {
            "text/plain": [
              "0.21374973580019146"
            ]
          },
          "metadata": {
            "tags": []
          },
          "execution_count": 10
        }
      ]
    },
    {
      "cell_type": "markdown",
      "metadata": {
        "id": "OleHJYP_WPL9"
      },
      "source": [
        "**Second Round**"
      ]
    },
    {
      "cell_type": "code",
      "metadata": {
        "id": "7e_KwKVkvlZH"
      },
      "source": [
        "# default n_estimators=100, min_samples_split=2, max_features='auto'\n",
        "# class_weight= None, max_df= 0.75\n",
        "\n",
        "model = RandomForestClassifier(random_state=42, class_weight= None)\n",
        "\n",
        "pipeline = Pipeline([\n",
        "    ('vect', CountVectorizer(tokenizer=tokenize, max_df= 0.75)),\n",
        "    ('tfidf', TfidfTransformer()),\n",
        "    ('clf', MultiOutputClassifier(model, n_jobs=-1))\n",
        "])\n",
        "\n",
        "parameters = {'clf__estimator__min_samples_split': [2, 4, 6, 8, 10, 12]}\n",
        "\n",
        "\n",
        "cv = GridSearchCV(pipeline, cv=2, param_grid=parameters, scoring='f1_macro', \n",
        "                  verbose=2, n_jobs=-1)\n",
        "\n",
        "\n",
        "cv.fit(X_train, y_train)"
      ],
      "execution_count": null,
      "outputs": []
    },
    {
      "cell_type": "code",
      "metadata": {
        "id": "W3XP8ADyvlFL"
      },
      "source": [
        "# min_samples_split=4\n",
        "cv.best_estimator_.get_params()"
      ],
      "execution_count": null,
      "outputs": []
    },
    {
      "cell_type": "code",
      "metadata": {
        "colab": {
          "base_uri": "https://localhost:8080/"
        },
        "id": "n86zK8zTvu_G",
        "outputId": "bba4c7b4-9856-44c4-b885-013ccde1274d"
      },
      "source": [
        "cv.best_score_"
      ],
      "execution_count": null,
      "outputs": [
        {
          "output_type": "execute_result",
          "data": {
            "text/plain": [
              "0.21915281658478253"
            ]
          },
          "metadata": {
            "tags": []
          },
          "execution_count": 14
        }
      ]
    },
    {
      "cell_type": "markdown",
      "metadata": {
        "id": "CpIb_x2Nq_Bw"
      },
      "source": [
        "### **AdaBoostClassifier**"
      ]
    },
    {
      "cell_type": "code",
      "metadata": {
        "id": "DBRvM7aZrTh7"
      },
      "source": [
        "# parameters tried\n",
        "\n",
        "parameters = {'vect__max_df': [0.75, 1],\n",
        "              'clf__estimator__n_estimators': [10, 15, 20, 30, 40, 50, 60, 100, 150],\n",
        "              'clf__estimator__learning_rate': [0.8, 1.0, 1.1, 1.2, 1.3, 1.4],\n",
        "              }"
      ],
      "execution_count": null,
      "outputs": []
    },
    {
      "cell_type": "markdown",
      "metadata": {
        "id": "S9rITuVX6wx6"
      },
      "source": [
        "**First Round**"
      ]
    },
    {
      "cell_type": "code",
      "metadata": {
        "id": "y6tD-7JBq-2P"
      },
      "source": [
        "# default n_estimators=50, learning_rate=1.0\n",
        "\n",
        "model = AdaBoostClassifier(random_state=42)\n",
        "\n",
        "pipeline = Pipeline([\n",
        "    ('vect', CountVectorizer(tokenizer=tokenize)),\n",
        "    ('tfidf', TfidfTransformer()),\n",
        "    ('clf', MultiOutputClassifier(model))\n",
        "])\n",
        "\n",
        "parameters = {'vect__max_df': [0.75, 1]}\n",
        "              # 'clf__estimator__n_estimators': [50, 100, 150],\n",
        "              # 'clf__estimator__learning_rate': [0.5, 0.8, 1.0, 1.2]\n",
        "\n",
        "\n",
        "cv = GridSearchCV(pipeline, cv=3, param_grid=parameters, scoring='f1_macro', \n",
        "                  verbose=2, n_jobs=2)\n",
        "\n",
        "\n",
        "cv.fit(X_train, y_train)"
      ],
      "execution_count": null,
      "outputs": []
    },
    {
      "cell_type": "code",
      "metadata": {
        "id": "ACv1ARofq-wm"
      },
      "source": [
        "# max_df= 0.75\n",
        "cv.best_estimator_.get_params()"
      ],
      "execution_count": null,
      "outputs": []
    },
    {
      "cell_type": "code",
      "metadata": {
        "colab": {
          "base_uri": "https://localhost:8080/"
        },
        "id": "_c-TU37tq-qy",
        "outputId": "a20077a6-3d33-412c-f2ef-9cc8e7f4d538"
      },
      "source": [
        "cv.best_score_"
      ],
      "execution_count": null,
      "outputs": [
        {
          "output_type": "execute_result",
          "data": {
            "text/plain": [
              "0.39845310393333366"
            ]
          },
          "metadata": {
            "tags": []
          },
          "execution_count": 12
        }
      ]
    },
    {
      "cell_type": "markdown",
      "metadata": {
        "id": "XRNvHBzkwGf8"
      },
      "source": [
        "**Second Round**"
      ]
    },
    {
      "cell_type": "code",
      "metadata": {
        "id": "kqnTWAU_vu4T"
      },
      "source": [
        "# max_df = 0.75\n",
        "\n",
        "model = AdaBoostClassifier(random_state=42)\n",
        "\n",
        "pipeline = Pipeline([\n",
        "    ('vect', CountVectorizer(tokenizer=tokenize, max_df = 0.75)),\n",
        "    ('tfidf', TfidfTransformer()),\n",
        "    ('clf', MultiOutputClassifier(model))\n",
        "])\n",
        "\n",
        "parameters = {'clf__estimator__n_estimators': [50, 100, 150],\n",
        "              'clf__estimator__learning_rate': [0.8, 1.0, 1.2] }\n",
        "\n",
        "\n",
        "cv = GridSearchCV(pipeline, cv=3, param_grid=parameters, scoring='f1_macro', \n",
        "                  verbose=2, n_jobs=2)\n",
        "\n",
        "\n",
        "cv.fit(X_train, y_train)"
      ],
      "execution_count": null,
      "outputs": []
    },
    {
      "cell_type": "code",
      "metadata": {
        "id": "WwA54Wkp7B89"
      },
      "source": [
        "# n_estimators = 50, learning_rate = 1.2\n",
        "cv.best_estimator_.get_params()"
      ],
      "execution_count": null,
      "outputs": []
    },
    {
      "cell_type": "code",
      "metadata": {
        "colab": {
          "base_uri": "https://localhost:8080/"
        },
        "id": "Pn8xB3di3ReJ",
        "outputId": "affc817c-8fd8-4445-b2e6-ef8df81b25a7"
      },
      "source": [
        "cv.best_score_"
      ],
      "execution_count": null,
      "outputs": [
        {
          "output_type": "execute_result",
          "data": {
            "text/plain": [
              "0.40387315390927725"
            ]
          },
          "metadata": {
            "tags": []
          },
          "execution_count": 9
        }
      ]
    },
    {
      "cell_type": "markdown",
      "metadata": {
        "id": "4j5CnSsZbi7W"
      },
      "source": [
        "**Third round**"
      ]
    },
    {
      "cell_type": "code",
      "metadata": {
        "id": "Ko1c5NFLbt8W"
      },
      "source": [
        "# max_df = 0.75\n",
        "\n",
        "model = AdaBoostClassifier(random_state=42)\n",
        "\n",
        "pipeline = Pipeline([\n",
        "    ('vect', CountVectorizer(tokenizer=tokenize, max_df = 0.75)),\n",
        "    ('tfidf', TfidfTransformer()),\n",
        "    ('clf', MultiOutputClassifier(model))\n",
        "])\n",
        "\n",
        "parameters = {'clf__estimator__n_estimators': [40, 50, 60],\n",
        "              'clf__estimator__learning_rate': [1.0, 1.2, 1.4]}\n",
        "\n",
        "\n",
        "cv = GridSearchCV(pipeline, cv=3, param_grid=parameters, scoring='f1_macro', \n",
        "                  verbose=2, n_jobs=2)\n",
        "\n",
        "\n",
        "cv.fit(X_train, y_train)"
      ],
      "execution_count": null,
      "outputs": []
    },
    {
      "cell_type": "code",
      "metadata": {
        "id": "OvijP2Znbt4K"
      },
      "source": [
        "# n_estimators= 40, learning_rate= 1.2\n",
        "cv.best_estimator_.get_params()"
      ],
      "execution_count": null,
      "outputs": []
    },
    {
      "cell_type": "code",
      "metadata": {
        "colab": {
          "base_uri": "https://localhost:8080/"
        },
        "id": "Fpb8oT67btyu",
        "outputId": "2c70243d-b222-4f6e-b0c0-89fb2a98d5e8"
      },
      "source": [
        "cv.best_score_"
      ],
      "execution_count": null,
      "outputs": [
        {
          "output_type": "execute_result",
          "data": {
            "text/plain": [
              "0.4045105421381187"
            ]
          },
          "metadata": {
            "tags": []
          },
          "execution_count": 12
        }
      ]
    },
    {
      "cell_type": "markdown",
      "metadata": {
        "id": "oHrHEZ5JbtrK"
      },
      "source": [
        "**Fourth round**"
      ]
    },
    {
      "cell_type": "code",
      "metadata": {
        "id": "gPvxBITPkVVy"
      },
      "source": [
        "# max_df = 0.75\n",
        "\n",
        "model = AdaBoostClassifier(random_state=42)\n",
        "\n",
        "pipeline = Pipeline([\n",
        "    ('vect', CountVectorizer(tokenizer=tokenize, max_df = 0.75)),\n",
        "    ('tfidf', TfidfTransformer()),\n",
        "    ('clf', MultiOutputClassifier(model))\n",
        "])\n",
        "\n",
        "parameters = {'clf__estimator__n_estimators': [20, 30, 40],\n",
        "              'clf__estimator__learning_rate': [1.2, 1.3, 1.4]}\n",
        "\n",
        "\n",
        "cv = GridSearchCV(pipeline, cv=3, param_grid=parameters, scoring='f1_macro', \n",
        "                  verbose=2, n_jobs=2)\n",
        "\n",
        "\n",
        "cv.fit(X_train, y_train)"
      ],
      "execution_count": null,
      "outputs": []
    },
    {
      "cell_type": "code",
      "metadata": {
        "id": "rEgDYAh1kVOl"
      },
      "source": [
        "# n_estimators': 20, learning_rate': 1.2\n",
        "cv.best_estimator_.get_params()"
      ],
      "execution_count": null,
      "outputs": []
    },
    {
      "cell_type": "code",
      "metadata": {
        "colab": {
          "base_uri": "https://localhost:8080/"
        },
        "id": "AhAfuqcdbi1G",
        "outputId": "a4650be1-17b9-40b9-dbab-b26c599dd85e"
      },
      "source": [
        "cv.best_score_"
      ],
      "execution_count": null,
      "outputs": [
        {
          "output_type": "execute_result",
          "data": {
            "text/plain": [
              "0.41101411092824636"
            ]
          },
          "metadata": {
            "tags": []
          },
          "execution_count": 15
        }
      ]
    },
    {
      "cell_type": "markdown",
      "metadata": {
        "id": "26t-O4rykk9i"
      },
      "source": [
        "**Fifth round**"
      ]
    },
    {
      "cell_type": "code",
      "metadata": {
        "id": "eJz51rYH4f01"
      },
      "source": [
        "# max_df = 0.75\n",
        "\n",
        "model = AdaBoostClassifier(random_state=42)\n",
        "\n",
        "pipeline = Pipeline([\n",
        "    ('vect', CountVectorizer(tokenizer=tokenize, max_df = 0.75)),\n",
        "    ('tfidf', TfidfTransformer()),\n",
        "    ('clf', MultiOutputClassifier(model))\n",
        "])\n",
        "\n",
        "parameters = {'clf__estimator__n_estimators': [10, 15, 20, 30],\n",
        "              'clf__estimator__learning_rate': [1.1, 1.2, 1.3]}\n",
        "\n",
        "\n",
        "cv = GridSearchCV(pipeline, cv=3, param_grid=parameters, scoring='f1_macro', \n",
        "                  verbose=2, n_jobs=2)\n",
        "\n",
        "\n",
        "cv.fit(X_train, y_train)"
      ],
      "execution_count": null,
      "outputs": []
    },
    {
      "cell_type": "code",
      "metadata": {
        "id": "2oeVnONt4fvo"
      },
      "source": [
        "# n_estimators=20, learning_rate=1.2\n",
        "cv.best_estimator_.get_params()"
      ],
      "execution_count": null,
      "outputs": []
    },
    {
      "cell_type": "code",
      "metadata": {
        "colab": {
          "base_uri": "https://localhost:8080/"
        },
        "id": "gKbGPRPWkk3h",
        "outputId": "df8d0c42-3bba-4fa2-c43e-e7c96f59f66d"
      },
      "source": [
        "cv.best_score_"
      ],
      "execution_count": null,
      "outputs": [
        {
          "output_type": "execute_result",
          "data": {
            "text/plain": [
              "0.41101411092824636"
            ]
          },
          "metadata": {
            "tags": []
          },
          "execution_count": 5
        }
      ]
    },
    {
      "cell_type": "markdown",
      "metadata": {
        "id": "gBVpHZ0h3RVV"
      },
      "source": [
        "**Final check**"
      ]
    },
    {
      "cell_type": "code",
      "metadata": {
        "id": "2nPEXlu9FJSZ"
      },
      "source": [
        "# max_df = 0.75\n",
        "\n",
        "model = AdaBoostClassifier(random_state=42)\n",
        "\n",
        "pipeline = Pipeline([\n",
        "    ('vect', CountVectorizer(tokenizer=tokenize, max_df = 0.75)),\n",
        "    ('tfidf', TfidfTransformer()),\n",
        "    ('clf', MultiOutputClassifier(model))\n",
        "])\n",
        "\n",
        "parameters = {\n",
        "    'clf__estimator__n_estimators': [100, 150, 200], #10, 50, 500\n",
        "    'clf__estimator__learning_rate': [1.0, 1.5, 2.0]\n",
        "        }\n",
        "\n",
        "cv = GridSearchCV(pipeline, cv=3, param_grid=parameters, scoring='f1_macro', \n",
        "                  verbose=2, n_jobs=2)\n",
        "\n",
        "\n",
        "cv.fit(X_train, y_train)\n",
        "\n",
        "        "
      ],
      "execution_count": null,
      "outputs": []
    },
    {
      "cell_type": "code",
      "metadata": {
        "id": "ggpnQnJvFJNV"
      },
      "source": [
        "# n_estimators': 150, learning_rate': 1.0 but LESS score\n",
        "cv.best_estimator_.get_params()"
      ],
      "execution_count": null,
      "outputs": []
    },
    {
      "cell_type": "code",
      "metadata": {
        "colab": {
          "base_uri": "https://localhost:8080/"
        },
        "id": "-Vx7BdokFZaE",
        "outputId": "90931ae9-8bfa-4ccc-afa5-b73e6f275493"
      },
      "source": [
        "cv.best_score_"
      ],
      "execution_count": null,
      "outputs": [
        {
          "output_type": "execute_result",
          "data": {
            "text/plain": [
              "0.40358428911806615"
            ]
          },
          "metadata": {
            "tags": []
          },
          "execution_count": 8
        }
      ]
    },
    {
      "cell_type": "markdown",
      "metadata": {
        "id": "StjTlsTcFJFS"
      },
      "source": [
        "**Best parameters for AdaBoost**\n",
        "- n_estimators = 20\n",
        "- learning_rate = 1.2"
      ]
    },
    {
      "cell_type": "code",
      "metadata": {
        "id": "OGi44oktFI8y"
      },
      "source": [
        ""
      ],
      "execution_count": null,
      "outputs": []
    },
    {
      "cell_type": "code",
      "metadata": {
        "id": "xLBKH5WEFI3V"
      },
      "source": [
        ""
      ],
      "execution_count": null,
      "outputs": []
    },
    {
      "cell_type": "code",
      "metadata": {
        "id": "Eyx7UuG_3ROo"
      },
      "source": [
        ""
      ],
      "execution_count": null,
      "outputs": []
    },
    {
      "cell_type": "markdown",
      "metadata": {
        "id": "sNt_auWevr5O"
      },
      "source": [
        "### **Resumen para Udacity**"
      ]
    },
    {
      "cell_type": "markdown",
      "metadata": {
        "id": "-JHSitwJqkOO"
      },
      "source": [
        "Parameters tried"
      ]
    },
    {
      "cell_type": "code",
      "metadata": {
        "id": "UbAjd2p2qich"
      },
      "source": [
        "model = AdaBoostClassifier(random_state=42)\n",
        "\n",
        "pipeline = Pipeline([\n",
        "    ('vect', CountVectorizer(tokenizer=tokenize)),\n",
        "    ('tfidf', TfidfTransformer()),\n",
        "    ('clf', MultiOutputClassifier(model, n_jobs=-1))\n",
        "])\n",
        "\n",
        "parameters = {'vect__max_df': [0.75, 1],\n",
        "              'clf__estimator__n_estimators': [50,100, 150, 200],\n",
        "              'clf__estimator__learning_rate': [0.5, 1.0, 1.5]}\n",
        "\n",
        "\n",
        "cv = GridSearchCV(pipeline, cv=3, param_grid=parameters, scoring='f1_macro', \n",
        "                  verbose=2, n_jobs=-1)\n",
        "\n",
        "with active_session():\n",
        "    cv.fit(X_train, y_train)"
      ],
      "execution_count": null,
      "outputs": []
    },
    {
      "cell_type": "markdown",
      "metadata": {
        "id": "mM6uhmWZrBs1"
      },
      "source": [
        "Este es el mejor modelo y el score:"
      ]
    },
    {
      "cell_type": "code",
      "metadata": {
        "id": "_i8RubQOrBPS"
      },
      "source": [
        ""
      ],
      "execution_count": null,
      "outputs": []
    },
    {
      "cell_type": "markdown",
      "metadata": {
        "id": "HtAZZn-hrU48"
      },
      "source": [
        "No entiendo por que sigue sin clasificar bien estos mensajes que vi en otros proyectos que si son clasificados correctamente.\n",
        "\n",
        "Tambien probe optimizar random forest:"
      ]
    },
    {
      "cell_type": "code",
      "metadata": {
        "id": "1K6zG4fLrXv3"
      },
      "source": [
        "model = RandomForestClassifier(random_state=42)\n",
        "\n",
        "pipeline = Pipeline([\n",
        "    ('vect', CountVectorizer(tokenizer=tokenize)),\n",
        "    ('tfidf', TfidfTransformer()),\n",
        "    ('clf', MultiOutputClassifier(model, n_jobs=-1))\n",
        "])\n",
        "\n",
        "parameters = {'vect__max_df': [0.75, 1],\n",
        "              'clf__estimator__min_samples_split': [2, 4, 6, 8, 10, 12],\n",
        "              'clf__estimator__max_features' : ['auto', 'sqrt']\n",
        "              'clf__estimator__class_weight' = ['balanced', 'balanced_subsample']}\n",
        "\n",
        "\n",
        "cv = GridSearchCV(pipeline, cv=3, param_grid=parameters, scoring='f1_macro', \n",
        "                  verbose=2, n_jobs=-1)\n",
        "\n",
        "with active_session():\n",
        "    cv.fit(X_train, y_train)"
      ],
      "execution_count": null,
      "outputs": []
    },
    {
      "cell_type": "markdown",
      "metadata": {
        "id": "R1uvdJb6rYdD"
      },
      "source": [
        "Este es el mejor modelo y el score:"
      ]
    },
    {
      "cell_type": "code",
      "metadata": {
        "id": "JX9VF6zZrZxa"
      },
      "source": [
        ""
      ],
      "execution_count": null,
      "outputs": []
    },
    {
      "cell_type": "markdown",
      "metadata": {
        "id": "VQqzGCUZrn0q"
      },
      "source": [
        "Entiendo que esto no es necesario para el proyecto, pero me gustaria entender como podria mejorar este modelo como si se tratara de un caso real.\n",
        "\n",
        "Encontre que podria tratar de amplificar las categorias que tienen poca data, pero parece que no puedo incluir mlsmote dentro de la pipeline.\n",
        "Tiene sentido aplicarlo a todo el dataset y luego dividir en training y test set?\n"
      ]
    },
    {
      "cell_type": "code",
      "metadata": {
        "id": "BOzquo0Xrz9p"
      },
      "source": [
        ""
      ],
      "execution_count": null,
      "outputs": []
    }
  ]
}